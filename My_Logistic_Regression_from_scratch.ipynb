{
  "nbformat": 4,
  "nbformat_minor": 0,
  "metadata": {
    "colab": {
      "provenance": [],
      "authorship_tag": "ABX9TyN46B8YCakoAaboKEUcuOGx",
      "include_colab_link": true
    },
    "kernelspec": {
      "display_name": "Python 3",
      "name": "python3"
    },
    "language_info": {
      "name": "python"
    }
  },
  "cells": [
    {
      "cell_type": "markdown",
      "metadata": {
        "id": "view-in-github",
        "colab_type": "text"
      },
      "source": [
        "<a href=\"https://colab.research.google.com/github/Rajshree-Th/Logistic-regression/blob/main/My_Logistic_Regression_from_scratch.ipynb\" target=\"_parent\"><img src=\"https://colab.research.google.com/assets/colab-badge.svg\" alt=\"Open In Colab\"/></a>"
      ]
    },
    {
      "cell_type": "markdown",
      "metadata": {
        "id": "DG3hTmSIpvHL"
      },
      "source": [
        "# Implement Logistic Regression from scratch\n",
        "\n",
        "In this session, we will implement Logistic Regression with L1 regularization from scratch and predict the labels of the test data. We will then verify the correctness of the our implementation using multiple \"grader\" functions/cells. The grader functions would help us to validate the correctness of our code.\n",
        "\n",
        "Let's know a brief about Logistic regression. Logistic regression is a statistical method used to model the relationship between a binary dependent variable (a variable that can take only two values, such as \"yes\" or \"no\") and one or more independent variables. The goal of logistic regression is to predict the probability of the dependent variable taking one of the two possible values based on the values of the independent variables.\n",
        "\n",
        "It is a popular and powerful method for modeling the probability of binary outcomes based on one or more independent variables. It is widely used in various fields such as finance, healthcare, marketing, and social sciences.\n",
        "\n",
        "The foremost task is to get data. I already have the CSV data file is in my google drive. So to directly get access our data file stored in google drive into our google colab notebook we need to mount Google Drive. Once mounted, the we can navigate to the \"/gdrive\" directory in the Colab notebook and access the files stored in Google Drive as if they were stored locally."
      ]
    },
    {
      "cell_type": "code",
      "metadata": {
        "colab": {
          "base_uri": "https://localhost:8080/"
        },
        "id": "e7BftW1ZeJzq",
        "outputId": "ea3feea9-b55e-482a-e457-94dd263ea3f7"
      },
      "source": [
        "# Mounting google drive as we are loading the data from google drive\n",
        "# Importing \"drive\" from \"google.colab\"\n",
        "from google.colab import drive\n",
        "drive.mount(\"/gdrive\", force_remount=True)"
      ],
      "execution_count": null,
      "outputs": [
        {
          "output_type": "stream",
          "name": "stdout",
          "text": [
            "Mounted at /gdrive\n"
          ]
        }
      ]
    },
    {
      "cell_type": "markdown",
      "source": [
        "As we've successfully mounted google drive into our google colab notebook, we can now read the CSV file into a pandas DataFrame by importing pandas in Google Colab. "
      ],
      "metadata": {
        "id": "boLJWCJMxo-C"
      }
    },
    {
      "cell_type": "code",
      "metadata": {
        "colab": {
          "base_uri": "https://localhost:8080/",
          "height": 423
        },
        "id": "uOue_wDrelWm",
        "outputId": "11c14788-e90b-4bb9-cf77-d4b092f68755"
      },
      "source": [
        "# Importing pandas library and assigns it an alias \"pd\"\n",
        "import pandas as pd\n",
        "\n",
        "# Specifying the path of the CSV file that is located in the Google Drive\n",
        "data_path = \"/gdrive/My Drive/My DB/logistic_regression_assignment_data.csv\"\n",
        "\n",
        "# Reading the CSV file into a pandas DataFrame and assigns it to a variable 'df'\n",
        "df = pd.read_csv(data_path)\n",
        "\n",
        "# Displaying the contents of the DataFrame \"df\"\n",
        "df"
      ],
      "execution_count": null,
      "outputs": [
        {
          "output_type": "execute_result",
          "data": {
            "text/plain": [
              "      category                                               text\n",
              "0            0  worldcom boss  left books alone  former worldc...\n",
              "1            1  tigers wary of farrell  gamble  leicester say ...\n",
              "2            1  yeading face newcastle in fa cup premiership s...\n",
              "3            1  henman hopes ended in dubai third seed tim hen...\n",
              "4            1  wilkinson fit to face edinburgh england captai...\n",
              "...        ...                                                ...\n",
              "1012         0  wall street cool to ebay s profit shares in on...\n",
              "1013         0  ban on forced retirement under 65 employers wi...\n",
              "1014         1  time to get tough on friendlies  for an intern...\n",
              "1015         0  christmas shoppers flock to tills shops all ov...\n",
              "1016         0  bush budget seeks deep cutbacks president bush...\n",
              "\n",
              "[1017 rows x 2 columns]"
            ],
            "text/html": [
              "\n",
              "  <div id=\"df-1185745a-bafd-4d45-8d5e-1570a1a83b22\">\n",
              "    <div class=\"colab-df-container\">\n",
              "      <div>\n",
              "<style scoped>\n",
              "    .dataframe tbody tr th:only-of-type {\n",
              "        vertical-align: middle;\n",
              "    }\n",
              "\n",
              "    .dataframe tbody tr th {\n",
              "        vertical-align: top;\n",
              "    }\n",
              "\n",
              "    .dataframe thead th {\n",
              "        text-align: right;\n",
              "    }\n",
              "</style>\n",
              "<table border=\"1\" class=\"dataframe\">\n",
              "  <thead>\n",
              "    <tr style=\"text-align: right;\">\n",
              "      <th></th>\n",
              "      <th>category</th>\n",
              "      <th>text</th>\n",
              "    </tr>\n",
              "  </thead>\n",
              "  <tbody>\n",
              "    <tr>\n",
              "      <th>0</th>\n",
              "      <td>0</td>\n",
              "      <td>worldcom boss  left books alone  former worldc...</td>\n",
              "    </tr>\n",
              "    <tr>\n",
              "      <th>1</th>\n",
              "      <td>1</td>\n",
              "      <td>tigers wary of farrell  gamble  leicester say ...</td>\n",
              "    </tr>\n",
              "    <tr>\n",
              "      <th>2</th>\n",
              "      <td>1</td>\n",
              "      <td>yeading face newcastle in fa cup premiership s...</td>\n",
              "    </tr>\n",
              "    <tr>\n",
              "      <th>3</th>\n",
              "      <td>1</td>\n",
              "      <td>henman hopes ended in dubai third seed tim hen...</td>\n",
              "    </tr>\n",
              "    <tr>\n",
              "      <th>4</th>\n",
              "      <td>1</td>\n",
              "      <td>wilkinson fit to face edinburgh england captai...</td>\n",
              "    </tr>\n",
              "    <tr>\n",
              "      <th>...</th>\n",
              "      <td>...</td>\n",
              "      <td>...</td>\n",
              "    </tr>\n",
              "    <tr>\n",
              "      <th>1012</th>\n",
              "      <td>0</td>\n",
              "      <td>wall street cool to ebay s profit shares in on...</td>\n",
              "    </tr>\n",
              "    <tr>\n",
              "      <th>1013</th>\n",
              "      <td>0</td>\n",
              "      <td>ban on forced retirement under 65 employers wi...</td>\n",
              "    </tr>\n",
              "    <tr>\n",
              "      <th>1014</th>\n",
              "      <td>1</td>\n",
              "      <td>time to get tough on friendlies  for an intern...</td>\n",
              "    </tr>\n",
              "    <tr>\n",
              "      <th>1015</th>\n",
              "      <td>0</td>\n",
              "      <td>christmas shoppers flock to tills shops all ov...</td>\n",
              "    </tr>\n",
              "    <tr>\n",
              "      <th>1016</th>\n",
              "      <td>0</td>\n",
              "      <td>bush budget seeks deep cutbacks president bush...</td>\n",
              "    </tr>\n",
              "  </tbody>\n",
              "</table>\n",
              "<p>1017 rows × 2 columns</p>\n",
              "</div>\n",
              "      <button class=\"colab-df-convert\" onclick=\"convertToInteractive('df-1185745a-bafd-4d45-8d5e-1570a1a83b22')\"\n",
              "              title=\"Convert this dataframe to an interactive table.\"\n",
              "              style=\"display:none;\">\n",
              "        \n",
              "  <svg xmlns=\"http://www.w3.org/2000/svg\" height=\"24px\"viewBox=\"0 0 24 24\"\n",
              "       width=\"24px\">\n",
              "    <path d=\"M0 0h24v24H0V0z\" fill=\"none\"/>\n",
              "    <path d=\"M18.56 5.44l.94 2.06.94-2.06 2.06-.94-2.06-.94-.94-2.06-.94 2.06-2.06.94zm-11 1L8.5 8.5l.94-2.06 2.06-.94-2.06-.94L8.5 2.5l-.94 2.06-2.06.94zm10 10l.94 2.06.94-2.06 2.06-.94-2.06-.94-.94-2.06-.94 2.06-2.06.94z\"/><path d=\"M17.41 7.96l-1.37-1.37c-.4-.4-.92-.59-1.43-.59-.52 0-1.04.2-1.43.59L10.3 9.45l-7.72 7.72c-.78.78-.78 2.05 0 2.83L4 21.41c.39.39.9.59 1.41.59.51 0 1.02-.2 1.41-.59l7.78-7.78 2.81-2.81c.8-.78.8-2.07 0-2.86zM5.41 20L4 18.59l7.72-7.72 1.47 1.35L5.41 20z\"/>\n",
              "  </svg>\n",
              "      </button>\n",
              "      \n",
              "  <style>\n",
              "    .colab-df-container {\n",
              "      display:flex;\n",
              "      flex-wrap:wrap;\n",
              "      gap: 12px;\n",
              "    }\n",
              "\n",
              "    .colab-df-convert {\n",
              "      background-color: #E8F0FE;\n",
              "      border: none;\n",
              "      border-radius: 50%;\n",
              "      cursor: pointer;\n",
              "      display: none;\n",
              "      fill: #1967D2;\n",
              "      height: 32px;\n",
              "      padding: 0 0 0 0;\n",
              "      width: 32px;\n",
              "    }\n",
              "\n",
              "    .colab-df-convert:hover {\n",
              "      background-color: #E2EBFA;\n",
              "      box-shadow: 0px 1px 2px rgba(60, 64, 67, 0.3), 0px 1px 3px 1px rgba(60, 64, 67, 0.15);\n",
              "      fill: #174EA6;\n",
              "    }\n",
              "\n",
              "    [theme=dark] .colab-df-convert {\n",
              "      background-color: #3B4455;\n",
              "      fill: #D2E3FC;\n",
              "    }\n",
              "\n",
              "    [theme=dark] .colab-df-convert:hover {\n",
              "      background-color: #434B5C;\n",
              "      box-shadow: 0px 1px 3px 1px rgba(0, 0, 0, 0.15);\n",
              "      filter: drop-shadow(0px 1px 2px rgba(0, 0, 0, 0.3));\n",
              "      fill: #FFFFFF;\n",
              "    }\n",
              "  </style>\n",
              "\n",
              "      <script>\n",
              "        const buttonEl =\n",
              "          document.querySelector('#df-1185745a-bafd-4d45-8d5e-1570a1a83b22 button.colab-df-convert');\n",
              "        buttonEl.style.display =\n",
              "          google.colab.kernel.accessAllowed ? 'block' : 'none';\n",
              "\n",
              "        async function convertToInteractive(key) {\n",
              "          const element = document.querySelector('#df-1185745a-bafd-4d45-8d5e-1570a1a83b22');\n",
              "          const dataTable =\n",
              "            await google.colab.kernel.invokeFunction('convertToInteractive',\n",
              "                                                     [key], {});\n",
              "          if (!dataTable) return;\n",
              "\n",
              "          const docLinkHtml = 'Like what you see? Visit the ' +\n",
              "            '<a target=\"_blank\" href=https://colab.research.google.com/notebooks/data_table.ipynb>data table notebook</a>'\n",
              "            + ' to learn more about interactive tables.';\n",
              "          element.innerHTML = '';\n",
              "          dataTable['output_type'] = 'display_data';\n",
              "          await google.colab.output.renderOutput(dataTable, element);\n",
              "          const docLink = document.createElement('div');\n",
              "          docLink.innerHTML = docLinkHtml;\n",
              "          element.appendChild(docLink);\n",
              "        }\n",
              "      </script>\n",
              "    </div>\n",
              "  </div>\n",
              "  "
            ]
          },
          "metadata": {},
          "execution_count": 2
        }
      ]
    },
    {
      "cell_type": "markdown",
      "metadata": {
        "id": "WtSIu_HSp5as"
      },
      "source": [
        "We can see that \"df\" contains 1016 rows and 2 columns- \"text\" and \"category\". The 'category' column is a binary variable that indicates the category of news article: 0 if the article is business-related and 1 if it is sports-related. The 'text' column contains the text content of the news article.\n",
        "\n",
        "Looking at the count of the number of occurrences of each unique value in the 'category' column, there are 508 sport-related entries and 509 business-related entries. Hence this dataset is considered to be nearly balanced. "
      ]
    },
    {
      "cell_type": "code",
      "metadata": {
        "colab": {
          "base_uri": "https://localhost:8080/"
        },
        "id": "GpzwECIbfpDi",
        "outputId": "6bf96dbd-8050-4776-d3f6-5485290a15f4"
      },
      "source": [
        "df[\"category\"].value_counts()"
      ],
      "execution_count": null,
      "outputs": [
        {
          "output_type": "execute_result",
          "data": {
            "text/plain": [
              "1    509\n",
              "0    508\n",
              "Name: category, dtype: int64"
            ]
          },
          "metadata": {},
          "execution_count": 3
        }
      ]
    },
    {
      "cell_type": "markdown",
      "metadata": {
        "id": "OXn39LKsp_L4"
      },
      "source": [
        "### Creating Train and Test Datasets\n",
        "\n",
        "Creating training and test data is an important step in Machine learning. This allows us to evaluate the model's performance on unseen data to ensure that it can generalize well to new, unseen data points.\n",
        "\n",
        "So to do this we've imported \"train_test_split\" function from the scikit-learn library which is used to split a dataset into training and testing sets. This function shuffles the data randomly before splitting it into training and testing sets, which helps to ensure that the distribution of samples in each set is representative of the overall dataset."
      ]
    },
    {
      "cell_type": "code",
      "metadata": {
        "colab": {
          "base_uri": "https://localhost:8080/"
        },
        "id": "wj4XnEORk3aY",
        "outputId": "54689991-08ad-4542-8390-408f349242ef"
      },
      "source": [
        "# Importing train_test_split from Sklearn\n",
        "from sklearn.model_selection import train_test_split\n",
        "\n",
        "# Assigning the columns \"text\" and \"category\" into variables \"text\" and \"category\" \n",
        "text, category = df['text'], df['category']\n",
        "'''\n",
        "test_size=0.01, this means that 1% of the data will be used for testing and 99% for training. \n",
        "\"random_state\" parameter is set to 42 to ensure that the data is split in the same way every time the function is run \n",
        "\"stratify\" parameter is set to \"category\" to ensure that the proportion of sports-related and business-related articles \n",
        "is roughly the same in both the training and testing sets so that the model is not biased towards one class.\n",
        "'''\n",
        "train_text, test_text, train_category, test_category = train_test_split(text, category, test_size = 0.01, random_state = 42, stratify = category)\n",
        "\n",
        "# Displaying the shapes of train and test data\n",
        "print(\"Shape of Train_Text = \", train_text.shape)\n",
        "print(\"Shape of Test_Text = \", test_text.shape)\n",
        "print(\"Shape of Train_Category = \", train_category.shape)\n",
        "print(\"Shape of Train_Category = \", test_category.shape)"
      ],
      "execution_count": null,
      "outputs": [
        {
          "output_type": "stream",
          "name": "stdout",
          "text": [
            "Shape of Train_Text =  (1006,)\n",
            "Shape of Test_Text =  (11,)\n",
            "Shape of Train_Category =  (1006,)\n",
            "Shape of Train_Category =  (11,)\n"
          ]
        }
      ]
    },
    {
      "cell_type": "markdown",
      "metadata": {
        "id": "0fCMr9kAqcWG"
      },
      "source": [
        "### Procedure:\n",
        "\n",
        "  1. Reading the train_data.\n",
        "  2. Vectorizing train_data and test_data using sklearns built in tfidf vectorizer.\n",
        "  3. Ignoring unigrams and make use of both **bigrams & trigrams** and also limit the **max features** to **2000** and **minimum document frequency** to **10**.\n",
        "  4. After the tfidf vectors are generated as mentioned above, next task is to column standardize the data.\n",
        "  5. To write the reason for standardizing the data.\n",
        "  6. Using sklearn StandardScaler to column standardize the data.\n",
        "  7. To write a function to initialise weights & bias. And then to run its corresponding grader function.\n",
        "  8. To write a custom function to calculate sigmoid of a value. And then to run its corresponding grader function to cross check our implementation of sigmoid function.\n",
        "  9. To write a custom function to compute the total loss as the sum of log loss and l1 regularization loss based on true labels and predicted labels and weights. And then to crosscheck our implementation with its corresponding grader.\n",
        "  10. To write a function to compute gradients for our weights and bias terms, which we have to make use of in updating our weights and bias while training our model.\n",
        "  11. To implement a custom train function of logistic regression, wherein we take in the following inputs:\n",
        "        * **X_train** which will be our vectorized text data\n",
        "        * **y_train** which are the labels for our train data\n",
        "        * **alpha** = 0.0001 which is the regularization factor (λ) \n",
        "        * **eta0** = 0.0001 which will be the learning rate   \n",
        "        * **tolerance** = 0.001\n",
        "  12. In the custom train function we should make use of a custom SGD function to update the weights and bias terms for **each** of your inputs. \n",
        "  13. The custom SGD implemented in the above train function for updating the weights and bias terms should run for many epochs until the difference in loss between two consecutive epochs is less than tolerance.\n",
        "  14. Here one epoch means a complete iteration of our entire train data.\n",
        "  15. Our train function should return the following:\n",
        "        * the number of epochs it took to complete the training.\n",
        "        * train loss for all epochs.\n",
        "        * the values for final weights and bias terms.  \n",
        "  16. Now we run the grader function to check whether the weights and bias obtained from our custom implementation are close enough to that of sklearns implementation.\n",
        "  17. Next we write a custom predict function which takes in as input the weights and bias values that was computed in train function, and also takes in the test standardized data as input to predict its labels.\n",
        "  18. Now we run the grader function to check the accuracy of our predictions."
      ]
    },
    {
      "cell_type": "markdown",
      "metadata": {
        "id": "o5NqSfQ7qcNT"
      },
      "source": [
        "###Import necessary libraries\n",
        "\n",
        "Importing some of the libraries that will be used during this project."
      ]
    },
    {
      "cell_type": "code",
      "metadata": {
        "id": "swevXoO-1V1G"
      },
      "source": [
        "import numpy as np\n",
        "from sklearn.feature_extraction.text import TfidfVectorizer\n",
        "from sklearn.preprocessing import StandardScaler\n",
        "from sklearn import linear_model\n",
        "import matplotlib.pyplot as plt\n",
        "import math"
      ],
      "execution_count": null,
      "outputs": []
    },
    {
      "cell_type": "markdown",
      "metadata": {
        "id": "6in6_LL6qqcB"
      },
      "source": [
        "### 1. Vectorize train data and test data using sklearn tf-idf\n",
        "\n",
        "\n",
        "TfidfVectorizer is a valuable tool in natural language processing and machine learning. It stands for Term Frequency-Inverse Document Frequency, which is a statistical measure that reflects how important a word is to a document in a collection or corpus. It helps in text classification and clustering by transforming text into a numerical representation, improving the efficiency and effectiveness of algorithms. It can also aid in text preprocessing by removing stop words, stemming, and converting text to lowercase.\n"
      ]
    },
    {
      "cell_type": "code",
      "metadata": {
        "colab": {
          "base_uri": "https://localhost:8080/"
        },
        "id": "N3byFeuL2gX4",
        "outputId": "f04a9d82-3532-481d-fb40-a94d6dee6414"
      },
      "source": [
        "'''\n",
        "\"ngram_range\" parameter is set to (2,3), which means that the vectorizer will extract both 2-grams (pairs of adjacent words) and \n",
        "3-grams (triplets of adjacent words) from the text. This can help capture more complex relationships between words and improve the model's performance.\n",
        "\"max_features\" parameter is set to 2000, which specifies the maximum number of features.\n",
        "This can help to reduce the dimensionality of the data and prevent overfitting.\n",
        "\"min_df\" parameter is set to 10, which means that the vectorizer will exclude any words or n-grams that appear in fewer than 10 documents. \n",
        "This can help to remove rare and potentially irrelevant features from the data and improve the model's performance.\n",
        "'''\n",
        "vectorizer = TfidfVectorizer(ngram_range = (2,3), max_features = 2000, min_df = 10)\n",
        "'''\n",
        "\"fit_transform()\" is used to learn and transform the training data, \n",
        "while \"transform()\" is used to apply the learned transformation to the test or new data.\n",
        "'''\n",
        "# Vectorizing train and test data using TF-IDF and store them in train_vectors and test_vectors respectively\n",
        "train_vectors = vectorizer.fit_transform(train_text)\n",
        "test_vectors = vectorizer.transform(test_text)\n",
        "\n",
        "# Displaying shapes of train and test vectors\n",
        "train_vectors.shape, test_vectors.shape"
      ],
      "execution_count": null,
      "outputs": [
        {
          "output_type": "execute_result",
          "data": {
            "text/plain": [
              "((1006, 2000), (11, 2000))"
            ]
          },
          "metadata": {},
          "execution_count": 6
        }
      ]
    },
    {
      "cell_type": "markdown",
      "metadata": {
        "id": "mqhohjjQqw7v"
      },
      "source": [
        "###2. Column standardize the train and test data\n",
        "\n",
        "Column standardization is used in machine learning to transform the data so that each feature has equal importance in the model. It ensures that features with different scales or ranges don't dominate the others and cause biased results. It also improves the model's robustness to outliers and helps it converge faster during training. \n",
        "\n",
        "Standardizing the data enhances the performance of some machine learning algorithms and improves the model's ability to generalize to new data.\n",
        "\n",
        "Assuming the data is Guassian distributed, in order overcome underfitting, column standardization is done to squish the data such that the mean comes at origin with variance of one (mu=0, sigma=1). "
      ]
    },
    {
      "cell_type": "code",
      "metadata": {
        "colab": {
          "base_uri": "https://localhost:8080/"
        },
        "id": "hBwydrVH4zve",
        "outputId": "0997b5b2-6532-4c5b-822d-d0dcac4286f0"
      },
      "source": [
        "# Creating an instance of \"StandardScaler()\" class\n",
        "scaler = StandardScaler()\n",
        "\n",
        "# Column standardizing the train and test data and store them in train_vectors_stand and test_vectors_stand\n",
        "train_vectors_stand = scaler.fit_transform(np.asarray(train_vectors.todense())) \n",
        "test_vectors_stand = scaler.transform(np.asarray(test_vectors.todense()))\n",
        "\n",
        "# Displaying shapes of standardised train and test vectors after assigning them to \"n_samples\" and \"d_features\"\n",
        "train_vectors_stand.shape, test_vectors_stand.shape"
      ],
      "execution_count": null,
      "outputs": [
        {
          "output_type": "execute_result",
          "data": {
            "text/plain": [
              "((1006, 2000), (11, 2000))"
            ]
          },
          "metadata": {},
          "execution_count": 7
        }
      ]
    },
    {
      "cell_type": "code",
      "source": [
        "# Assigning the number of rows and columns of training data to separate variables\n",
        "n_samples, d_features = train_vectors_stand.shape\n",
        "n_samples, d_features"
      ],
      "metadata": {
        "colab": {
          "base_uri": "https://localhost:8080/"
        },
        "id": "M4LK5q9ae2yt",
        "outputId": "d4978b3b-0534-4496-abc5-63deed6a41ad"
      },
      "execution_count": null,
      "outputs": [
        {
          "output_type": "execute_result",
          "data": {
            "text/plain": [
              "(1006, 2000)"
            ]
          },
          "metadata": {},
          "execution_count": 8
        }
      ]
    },
    {
      "cell_type": "markdown",
      "metadata": {
        "id": "qUn89OSMrFRi"
      },
      "source": [
        "### 3. Initialize weights and bias terms"
      ]
    },
    {
      "cell_type": "code",
      "metadata": {
        "id": "LdxfHIyAEJ-D"
      },
      "source": [
        "def initialize_weights_bias(dim):\n",
        "    ''' In this function, we will initialize our weights and bias terms'''\n",
        "    # Weights is an array of (dim) dimensions. \n",
        "    # Here dim is the number of features of tfidf vectorizer output.\n",
        "    w = np.zeros((dim))\n",
        "    b = 0\n",
        "    return w,b"
      ],
      "execution_count": null,
      "outputs": []
    },
    {
      "cell_type": "markdown",
      "metadata": {
        "id": "elTV2z8xrUKQ"
      },
      "source": [
        "### Grader Function - 1"
      ]
    },
    {
      "cell_type": "code",
      "metadata": {
        "colab": {
          "base_uri": "https://localhost:8080/"
        },
        "id": "RsAL2cKVfPWB",
        "outputId": "4226128f-5777-4fea-a403-17f15638dbea"
      },
      "source": [
        "# Grader function-1 is design to check the initialization of your weights and bias terms.\n",
        "def grader_weights_bias(w,b):\n",
        "    assert((len(w)==2000) and b==0)\n",
        "    return True\n",
        "\n",
        "dim = 2000\n",
        "w,b = initialize_weights_bias(dim)\n",
        "grader_1 = grader_weights_bias(w,b)\n",
        "print(\"Grader_1 Status : \", grader_1)"
      ],
      "execution_count": null,
      "outputs": [
        {
          "output_type": "stream",
          "name": "stdout",
          "text": [
            "Grader_1 Status :  True\n"
          ]
        }
      ]
    },
    {
      "cell_type": "markdown",
      "metadata": {
        "id": "RE87BSjfrZPo"
      },
      "source": [
        "### 4. Calculate sigmoid of a value\n",
        "\n",
        "The sigmoid function is used in logistic regression because it maps any input value to a value between 0 and 1, which can be interpreted as a probability. The sigmoid function has a characteristic \"S\" shape, which makes it easy to interpret the output of the model as a probability.\n",
        "\n",
        "Mathematically, the sigmoid function is defined as:\n",
        "\n",
        "σ(z) = 1 / (1 + e^(-z))\n",
        "\n",
        "where z is the weighted sum of the input features and σ(z) is the output probability. The sigmoid function is differentiable, which makes it suitable for use in optimization algorithms such as gradient descent. The derivative of the sigmoid function is also relatively simple, which makes it easy to calculate gradients for backpropagation during training.\n",
        "\n",
        "Overall, the sigmoid function is a natural choice for logistic regression because of its ability to map inputs to probabilities and its mathematical properties."
      ]
    },
    {
      "cell_type": "code",
      "metadata": {
        "id": "fDZlQwcKj3K0"
      },
      "source": [
        "def custom_sigmoid(z):\n",
        "    ''' In this function, we will return sigmoid of z'''\n",
        "    # Computing sigmoid(z) and returning its value.\n",
        "    sigmoid = 1 / (1 + np.exp(-z))\n",
        "\n",
        "    return sigmoid"
      ],
      "execution_count": null,
      "outputs": []
    },
    {
      "cell_type": "markdown",
      "metadata": {
        "id": "XRINF_o4rc8Z"
      },
      "source": [
        "### Grader Function - 2"
      ]
    },
    {
      "cell_type": "code",
      "metadata": {
        "colab": {
          "base_uri": "https://localhost:8080/"
        },
        "id": "JXGvnegSj_GV",
        "outputId": "1b41f71e-b64c-4065-c96f-4987c233f282"
      },
      "source": [
        "# Grader function to check the implementaiton of sigmoid function\n",
        "def grader_sigmoid(z):\n",
        "    val = custom_sigmoid(z)\n",
        "    assert(val==0.8807970779778823)\n",
        "    return True\n",
        "\n",
        "grader_2 = grader_sigmoid(2)\n",
        "print(\"Grader_2 Status : \", grader_2)"
      ],
      "execution_count": null,
      "outputs": [
        {
          "output_type": "stream",
          "name": "stdout",
          "text": [
            "Grader_2 Status :  True\n"
          ]
        }
      ]
    },
    {
      "cell_type": "markdown",
      "metadata": {
        "id": "aw5SpoGkriy9"
      },
      "source": [
        "### 5.  Compute loss function\n",
        "\n",
        "Let's now calculate loss function with L1 regularisation\n",
        "\n",
        "$logloss = -1*\\frac{1}{n}\\Sigma_{for each Y_{true},Y_{pred}}(Y_{true}log10(Y_{pred})+(1-Y_{true})log10(1-Y_{pred}))$\n",
        "\n",
        "$L1 loss = \\Sigma_{for each w}(|w|)$\n",
        "\n",
        "$total loss = logloss + alpha*L1loss$<br>\n",
        "where alphas is the regularization parameter"
      ]
    },
    {
      "cell_type": "code",
      "metadata": {
        "id": "FPichdD6l4AP"
      },
      "source": [
        "def custom_loss(y_true, y_pred, alpha, w):\n",
        "    '''In this function, we will compute total loss which is \n",
        "    [(logloss) + (alpha * L1regularization loss)] '''\n",
        "    \n",
        "    # Initializing variables with values zeroes.\n",
        "    temp1, temp2 = 0, 0\n",
        "    \n",
        "    for i in range(0,len(y_true)):\n",
        "        if y_true[i] == 0:\n",
        "            temp1 += np.log10(1 - y_pred[i])\n",
        "        else:\n",
        "            temp1 += np.log10(y_pred[i])   \n",
        "    log_loss = (-1) * temp1/len(y_true)\n",
        "  \n",
        "    for j in w:\n",
        "        temp2 += abs(j)\n",
        "        l1_loss = temp2\n",
        "\n",
        "    total_loss = log_loss + alpha * l1_loss \n",
        "    return total_loss"
      ],
      "execution_count": null,
      "outputs": []
    },
    {
      "cell_type": "markdown",
      "metadata": {
        "id": "ToztdaH9rzWv"
      },
      "source": [
        "### Grader Function - 3"
      ]
    },
    {
      "cell_type": "code",
      "metadata": {
        "colab": {
          "base_uri": "https://localhost:8080/"
        },
        "id": "DBB39zGxmLmb",
        "outputId": "48a899e4-a23f-4a03-8c05-26469400aabe"
      },
      "source": [
        "# Grader function to check the implementaiton of logloss\n",
        "def grader_loss():\n",
        "    true_values = [1,1,0,1,0]\n",
        "    pred_values = [0.9,0.8,0.1,0.8,0.2]\n",
        "    w= np.array([0.1]*10)\n",
        "    alpha= 0.0001\n",
        "    loss = custom_loss(true_values, pred_values,alpha,w)\n",
        "    assert(loss==0.07644900402910389+0.0001*10*0.1)\n",
        "    return True\n",
        "\n",
        "\n",
        "grader_3 = grader_loss()\n",
        "print(\"Grader_3 Status : \", grader_3)"
      ],
      "execution_count": null,
      "outputs": [
        {
          "output_type": "stream",
          "name": "stdout",
          "text": [
            "Grader_3 Status :  True\n"
          ]
        }
      ]
    },
    {
      "cell_type": "markdown",
      "metadata": {
        "id": "Pnw2qtkUr8Ha"
      },
      "source": [
        "### 6. Function to updated weights and bias terms"
      ]
    },
    {
      "cell_type": "markdown",
      "metadata": {
        "id": "_0sM2AUOr_Fz"
      },
      "source": [
        "Uing the formula below to compute gradient of our weight and bias terms <br>\n",
        "Loss term Li for a single example is given as below: \n",
        "<br>\n",
        "$Li= -(Y_{i}log10(𝝈_{i})-(1-Y_{i})log10(1-𝝈_{i}) + \\frac{alpha}{N}(sum(|w|))\n",
        "$ <br>\n",
        "\n",
        "$Where: 𝝈_{i} = σ(w^{T} x_i+b) $ <br>\n",
        "<br>\n",
        "And: \n",
        "\n",
        "L1 regularization = $\\frac{alpha}{N}(sum(|w|)) $ <br>\n",
        "Alpha: Regularization parameter <br>\n",
        "N : number of training examples<br>\n",
        "σ : sigmoid function <br>\n",
        "<br>\n",
        "$dLi/dw= -Y_{i}x_{i}(1-𝝈_{i}) + (1-Y_{i})x_{i}𝝈_{i} + \\frac{alpha}{N} \\frac{w + (1e-5)}{|w + (1e-5)|}  $<br>\n",
        "NOTE THAT: 1e-5 is used in numerator and denominator to avoid division error <br>\n",
        "\n",
        "$dLi/db= -Y_{i}(1-𝝈_{i}) + (1-Y_{i})𝝈_{i}$<br>\n",
        "<br>\n",
        "Hence,<br>\n",
        "$dLi/dw= dw = (𝝈_{i} -Y_{i})x_{i} + \\frac{alpha}{N}\\frac{w + (1e-5)}{|w + (1e-5)|} $<br>\n",
        "1e-5 is used in numerator and denominator to avoid division error <br>\n",
        "$dLi/db =  db = 𝝈_{i}-Y_{i}$\n",
        "<br>\n",
        "\n",
        "!!NOTE: NEGATIVE GRADIENT IS USED WHILE UPDATING"
      ]
    },
    {
      "cell_type": "markdown",
      "metadata": {
        "id": "TAzY9c1MsFu3"
      },
      "source": [
        "### 6a. Compute Gradient of loss function wrt weights:"
      ]
    },
    {
      "cell_type": "code",
      "metadata": {
        "id": "R41awnBzuemk"
      },
      "source": [
        "def gradient_dw(x, y, w, b, alpha, N):\n",
        "    '''In this function, we will compute the gardient w.r.t. w '''\n",
        "    y_hat = custom_sigmoid(np.dot(w,x.T) + b)\n",
        "    dw = np.dot((y_hat - y),x) + ((alpha/N)*((w+1e-5)/abs(w+1e-5)))\n",
        "    return dw"
      ],
      "execution_count": null,
      "outputs": []
    },
    {
      "cell_type": "markdown",
      "metadata": {
        "id": "t3RoeRPzsNKe"
      },
      "source": [
        "### 6b.  Custom function to compute Gradient of loss function wrt bias term:"
      ]
    },
    {
      "cell_type": "code",
      "metadata": {
        "id": "iqBX-WiTvMSJ"
      },
      "source": [
        "def gradient_db(x, y, w, b):\n",
        "    '''In this function, we will compute the gardient w.r.t. b '''\n",
        "    y_hat = custom_sigmoid(np.dot(w,x.T) + b)\n",
        "    db = y_hat - y\n",
        "    return db"
      ],
      "execution_count": null,
      "outputs": []
    },
    {
      "cell_type": "markdown",
      "metadata": {
        "id": "jMG3OTjJsWJz"
      },
      "source": [
        "###6c. Custom function to train logistic regression model"
      ]
    },
    {
      "cell_type": "markdown",
      "metadata": {
        "id": "haWXUqXbsZ5T"
      },
      "source": [
        "$w^{(t+1)}← w^{(t)}- eta0*(dw^{(t)}) $<br>\n",
        "$b^{(t+1)}←b^{(t)} - eta0*(db^{(t)}) $"
      ]
    },
    {
      "cell_type": "code",
      "metadata": {
        "id": "af0IoUfUeDPJ"
      },
      "source": [
        "def custom_train(X_train, y_train, alpha, eta0, tolerance):\n",
        "    \"\"\"In this function we will compute optimal values for weights and bias terms on the train data. \n",
        "    Here eta0 is the learning rate and alpha is the regularization term.\"\"\"\n",
        "    \n",
        "    train_loss=[]\n",
        " \n",
        "    # Initializing weights and bias by calling the initializing function\n",
        "    w, b = initialize_weights_bias(d_features)\n",
        "    # Initializing a variable to count the number of iterations. It is initially set to zero\n",
        "    num_epochs = 0\n",
        "    # Assigning a boolean value \"True\" to variable \"condition\". This is done to start the \"while\" loop\n",
        "    condition = True\n",
        "\n",
        "    while(condition):\n",
        "        # Iterating every data points  \n",
        "        for n in range(n_samples):\n",
        "\n",
        "            # Computing \"dw\" and \"db\" by calling their respective gradient functions \n",
        "            dw = gradient_dw(X_train[n], y_train[n], w, b, alpha, n_samples)\n",
        "            db = gradient_db(X_train[n], y_train[n], w, b)\n",
        "            # Updating \"w\" and \"b\"\n",
        "            w = w - eta0 * dw\n",
        "            b = b - eta0 * db\n",
        "\n",
        "        # Predicting the output of train data\n",
        "        y_pred = []    \n",
        "        for point in X_train:\n",
        "            y_pred = np.append(y_pred, (custom_sigmoid(np.dot(w,point.T)+b)))\n",
        "        # Computing loss (error) between the predicted and actual values and storing them into  \n",
        "        train_loss.append(custom_loss(y_train, y_pred, alpha, w))\n",
        "        \n",
        "        # Checking if the difference of two consecutive losses exceeds the tolerance value, otherwise stop the loop \n",
        "        if num_epochs > 0:\n",
        "            diff = train_loss[num_epochs-1] - train_loss[num_epochs]\n",
        "            condition = (diff >= tolerance)\n",
        "        num_epochs = num_epochs + 1\n",
        "\n",
        "    # Return the values of weights, bias, train_loss and num_epochs\n",
        "    return w,b,train_loss, num_epochs"
      ],
      "execution_count": null,
      "outputs": []
    },
    {
      "cell_type": "code",
      "metadata": {
        "colab": {
          "base_uri": "https://localhost:8080/"
        },
        "id": "eULpgHP2rdNr",
        "outputId": "e64d6e5f-c839-4eb8-a31b-918b546585c6"
      },
      "source": [
        "# Calling the above \"custom_train\" function and displaying the outputs\n",
        "w,b,_,epoch = custom_train(train_vectors_stand, train_category.values, 0.0001, 0.0001, 0.001)\n",
        "print(\"W :\", w)\n",
        "print(\"B :\",  b)\n",
        "print(\"Train loss :\", _)\n",
        "print(\"Num_Epochs :\", epoch)"
      ],
      "execution_count": null,
      "outputs": [
        {
          "output_type": "stream",
          "name": "stdout",
          "text": [
            "W : [-0.02309065 -0.01788942  0.01964919 ...  0.0178764   0.02193327\n",
            "  0.01974338]\n",
            "B : 0.003429151632644843\n",
            "Train loss : [0.16110780094782637, 0.10963558894017825, 0.08397834542265481, 0.06865241727222729, 0.05843450877922999, 0.0511112817434264, 0.045589658035246665, 0.041268077415098345, 0.037787821996590615, 0.03492147944756584, 0.03251757279289221, 0.030471172388287938, 0.02870724638945493, 0.02717072229086866, 0.02582011906943329, 0.02462351883196356, 0.02355596022164322, 0.022597652954307084]\n",
            "Num_Epochs : 18\n"
          ]
        }
      ]
    },
    {
      "cell_type": "markdown",
      "metadata": {
        "id": "-OhJpKQfsisz"
      },
      "source": [
        "### Grader Function - 4"
      ]
    },
    {
      "cell_type": "code",
      "metadata": {
        "id": "S6Xk4q8w3Ned",
        "colab": {
          "base_uri": "https://localhost:8080/"
        },
        "outputId": "e84d1233-fd54-4172-e364-847f43cd9bda"
      },
      "source": [
        "def grader_weights_bias():\n",
        "    # Fitting sklearn SGD classifier\n",
        "    clf = linear_model.SGDClassifier(eta0=0.0001, alpha=0.0001, loss='log_loss', \n",
        "                                     random_state=15, penalty='l1', tol=1e-3, learning_rate='constant')\n",
        "    clf.fit(train_vectors_stand, train_category.values)\n",
        "    model_coef= clf.coef_[0]\n",
        "\n",
        "    # Fitting custom train with same learning rate, regularization and tolerance as of sklearn\n",
        "    w,b,_,epoch = custom_train(train_vectors_stand, train_category.values, 0.0001, 0.0001, 0.001)\n",
        "\n",
        "    # Checking whether the weights and bias returned by both the implementations are closer\n",
        "    assert((not (w-model_coef>0.02).any())==True)\n",
        "    assert(not (b-clf.intercept_>0.02)==True)\n",
        "  \n",
        "    return True\n",
        "\n",
        "grader_4 = grader_weights_bias()\n",
        "print(\"Grader_4 Status : \", grader_4)"
      ],
      "execution_count": null,
      "outputs": [
        {
          "output_type": "stream",
          "name": "stdout",
          "text": [
            "Grader_4 Status :  True\n"
          ]
        }
      ]
    },
    {
      "cell_type": "markdown",
      "metadata": {
        "id": "Hzb9pmbZsqMK"
      },
      "source": [
        "### 7. Plot the train loss with x as epoch number and y as train loss"
      ]
    },
    {
      "cell_type": "code",
      "metadata": {
        "id": "9gxFCu4sB4xL",
        "colab": {
          "base_uri": "https://localhost:8080/",
          "height": 472
        },
        "outputId": "c7bb31c7-0c7e-4bce-af9e-13131c4d4cc7"
      },
      "source": [
        "'''Plotting graph for epoch vs loss for train and test data by calling \"custom_train\" function'''\n",
        "w,b,train_loss,epochs = custom_train(train_vectors_stand, train_category.values, 0.0001, 0.0001, 0.001)\n",
        "plt.plot(range(epochs), train_loss, label='train curve')\n",
        "plt.title('epoch vs loss')\n",
        "plt.legend()\n",
        "plt.xlabel('epoch')\n",
        "plt.ylabel('loss')\n",
        "plt.show()"
      ],
      "execution_count": null,
      "outputs": [
        {
          "output_type": "display_data",
          "data": {
            "text/plain": [
              "<Figure size 640x480 with 1 Axes>"
            ],
            "image/png": "[encoded data removed]"
          },
          "metadata": {}
        }
      ]
    },
    {
      "cell_type": "markdown",
      "metadata": {
        "id": "KEYCSRfIsuNx"
      },
      "source": [
        "### 8. Custom function to make predictions using logistic regression model"
      ]
    },
    {
      "cell_type": "code",
      "metadata": {
        "id": "L7PVyRIjknvN"
      },
      "source": [
        "def predict(w,b, X):\n",
        "    '''function to predict label given weights, bias and standardized data'''\n",
        "    predictions = []\n",
        "    threshold = 0.5\n",
        "    \n",
        "    # Iterating each point of X\n",
        "    for point in X:\n",
        "        # Predicting each point by calling \"custom_sigmoid\" function \n",
        "        preds = custom_sigmoid(np.dot(w,point.T) + b)\n",
        "        \n",
        "        # Checking whether the prediction is greater than or less than the threshold \n",
        "        if  preds < threshold:\n",
        "            # Appending prediction array with \"0\" if the prediction is less than the threshold\n",
        "            predictions = np.append(predictions,0)\n",
        "        else:\n",
        "            # Assigning prediction array with \"1\" if the prediction is greater than the threshold\n",
        "            predictions = np.append(predictions,1)\n",
        "\n",
        "    #print(predictions)\n",
        "    return predictions # Numpy array"
      ],
      "execution_count": null,
      "outputs": []
    },
    {
      "cell_type": "markdown",
      "metadata": {
        "id": "vfWCR8mIs0rq"
      },
      "source": [
        "### Grader Function - 5"
      ]
    },
    {
      "cell_type": "code",
      "metadata": {
        "id": "gJ9qoiEJlCQS",
        "colab": {
          "base_uri": "https://localhost:8080/"
        },
        "outputId": "ac773eaa-13c5-4b73-87b9-c2cdf2835a30"
      },
      "source": [
        "def grader_predict():\n",
        "  ''' grader to check the test accuracy'''\n",
        "  w, b, _, _ = custom_train(train_vectors_stand, train_category.values, 0.0001, 0.0001, 0.001)\n",
        "  test_preds= predict(w, b, test_vectors_stand)\n",
        "  test_accuracy= (np.sum(test_category==test_preds) / len(test_preds)) * 100\n",
        "  if(test_accuracy >= 90):\n",
        "    print(\"Success!\")\n",
        "  else:\n",
        "    print(\"Failed! \\n Test accuracy = \", test_accuracy)\n",
        "  return\n",
        "  \n",
        "grader_predict()"
      ],
      "execution_count": null,
      "outputs": [
        {
          "output_type": "stream",
          "name": "stdout",
          "text": [
            "Success!\n"
          ]
        }
      ]
    }
  ]
}